{
 "cells": [
  {
   "cell_type": "code",
   "execution_count": 3,
   "metadata": {},
   "outputs": [],
   "source": [
    "import pandas as pd\n",
    "\n",
    "from sklearn.model_selection import train_test_split\n",
    "from sklearn.ensemble import RandomForestClassifier, GradientBoostingClassifier\n",
    "from sklearn.metrics import accuracy_score"
   ]
  },
  {
   "cell_type": "code",
   "execution_count": 4,
   "metadata": {},
   "outputs": [],
   "source": [
    "file_path = '../data/nfl_scores.csv'\n",
    "\n",
    "data = pd.read_csv(file_path)\n",
    "nfl_df = pd.DataFrame(data)"
   ]
  },
  {
   "cell_type": "code",
   "execution_count": 6,
   "metadata": {},
   "outputs": [],
   "source": [
    "team_names = {'Washington Redskins': 'Washington Commanders', \n",
    "              'Washington Football Team': 'Washington Commanders', \n",
    "              'Oakland Raiders': 'Las Vegas Raiders',\n",
    "              'Houston Oilers': 'Tennessee Titans',\n",
    "              'Tennessee Oilers': 'Tennessee Titans',\n",
    "              'St. Louis Rams': 'Los Angeles Rams',\n",
    "              'St. Louis Cardinals': 'Arizona Cardinals',\n",
    "              'Phoenix Cardinals': 'Arizona Cardinals',\n",
    "              'San Diego Chargers': 'Los Angeles Chargers',\n",
    "              'Baltimore Colts': 'Baltimore Ravens',\n",
    "              'Boston Patriots': 'New England Patriots',\n",
    "              'Los Angeles Raiders': 'Las Vegas Raiders'}\n",
    "\n",
    "nfl_df['team_home'] = nfl_df['team_home'].replace(team_names)\n",
    "nfl_df['team_away'] = nfl_df['team_away'].replace(team_names)\n",
    "nfl_df['result_home'] = (nfl_df['score_home'] - nfl_df['score_away']).apply(lambda x: 1 if x > 0 else (0 if x < 0 else 0.5)).astype(str)\n",
    "nfl_df = nfl_df.drop('score_home', axis=1)\n",
    "nfl_df = nfl_df.drop('score_away', axis=1)"
   ]
  },
  {
   "cell_type": "code",
   "execution_count": 9,
   "metadata": {},
   "outputs": [
    {
     "data": {
      "text/plain": [
       "array(['New York Giants', 'Buffalo Bills', 'Carolina Panthers',\n",
       "       'Chicago Bears', 'Cincinnati Bengals', 'Cleveland Browns',\n",
       "       'Denver Broncos', 'Green Bay Packers', 'Houston Texans',\n",
       "       'Jacksonville Jaguars', 'Miami Dolphins', 'Las Vegas Raiders',\n",
       "       'Tampa Bay Buccaneers', 'Tennessee Titans',\n",
       "       'Washington Commanders', 'New England Patriots', 'Atlanta Falcons',\n",
       "       'Baltimore Ravens', 'Dallas Cowboys', 'Indianapolis Colts',\n",
       "       'Kansas City Chiefs', 'Minnesota Vikings', 'New Orleans Saints',\n",
       "       'New York Jets', 'Pittsburgh Steelers', 'Los Angeles Chargers',\n",
       "       'San Francisco 49ers', 'Seattle Seahawks', 'Los Angeles Rams',\n",
       "       'Arizona Cardinals', 'Detroit Lions', 'Philadelphia Eagles'],\n",
       "      dtype=object)"
      ]
     },
     "metadata": {},
     "output_type": "display_data"
    },
    {
     "name": "stdout",
     "output_type": "stream",
     "text": [
      "32\n"
     ]
    }
   ],
   "source": [
    "nfl_2002_2022 = nfl_df[(nfl_df['schedule_season'] >= 2002) & (nfl_df['schedule_season'] < 2023)]"
   ]
  },
  {
   "cell_type": "code",
   "execution_count": 65,
   "metadata": {},
   "outputs": [
    {
     "name": "stderr",
     "output_type": "stream",
     "text": [
      "/var/folders/8s/x__k3qxs3lbgfsdfz_rp19qw0000gn/T/ipykernel_28650/328178077.py:2: SettingWithCopyWarning: \n",
      "A value is trying to be set on a copy of a slice from a DataFrame\n",
      "\n",
      "See the caveats in the documentation: https://pandas.pydata.org/pandas-docs/stable/user_guide/indexing.html#returning-a-view-versus-a-copy\n",
      "  nfl_2002_2022.drop(column_has_nan[column_has_nan].index, axis=1, inplace=True)\n"
     ]
    }
   ],
   "source": [
    "column_has_nan = nfl_2002_2022.isnull().any()\n",
    "nfl_2002_2022.drop(column_has_nan[column_has_nan].index, axis=1, inplace=True)"
   ]
  },
  {
   "cell_type": "code",
   "execution_count": 66,
   "metadata": {},
   "outputs": [
    {
     "name": "stdout",
     "output_type": "stream",
     "text": [
      "['schedule_season', 'schedule_playoff', 'spread_favorite', 'stadium_neutral']\n"
     ]
    }
   ],
   "source": [
    "nfl_labels = nfl_2002_2022['result_home'].tolist()\n",
    "nfl_features = nfl_2002_2022.drop('result_home', axis=1)\n",
    "nfl_features = nfl_2002_2022._get_numeric_data().columns.values.tolist()\n",
    "print(nfl_features)\n",
    "nfl_feature_data = nfl_2002_2022[nfl_features]\n",
    "X_train, X_test, y_train, y_test = train_test_split(nfl_feature_data, nfl_labels, test_size=0.3)"
   ]
  },
  {
   "cell_type": "code",
   "execution_count": 71,
   "metadata": {},
   "outputs": [
    {
     "name": "stdout",
     "output_type": "stream",
     "text": [
      "Random Forest Model Accuracy: 0.5425029515938606\n"
     ]
    }
   ],
   "source": [
    "rf_model = RandomForestClassifier(n_estimators=100)\n",
    "\n",
    "rf_model.fit(X_train, y_train)\n",
    "\n",
    "rf_predictions = rf_model.predict(X_test)\n",
    "\n",
    "rf_accuracy = accuracy_score(y_test, rf_predictions)\n",
    "print(f'Random Forest Model Accuracy: {rf_accuracy}')"
   ]
  }
 ],
 "metadata": {
  "kernelspec": {
   "display_name": "Python 3",
   "language": "python",
   "name": "python3"
  },
  "language_info": {
   "codemirror_mode": {
    "name": "ipython",
    "version": 3
   },
   "file_extension": ".py",
   "mimetype": "text/x-python",
   "name": "python",
   "nbconvert_exporter": "python",
   "pygments_lexer": "ipython3",
   "version": "3.11.1"
  }
 },
 "nbformat": 4,
 "nbformat_minor": 2
}
