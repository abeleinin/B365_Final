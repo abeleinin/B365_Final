{
 "cells": [
  {
   "cell_type": "code",
   "execution_count": 2,
   "metadata": {},
   "outputs": [],
   "source": [
    "import pandas as pd\n",
    "import numpy as np\n",
    "\n",
    "from sklearn.model_selection import train_test_split\n",
    "from sklearn.ensemble import RandomForestClassifier, GradientBoostingClassifier\n",
    "from sklearn.metrics import accuracy_score"
   ]
  },
  {
   "cell_type": "code",
   "execution_count": 3,
   "metadata": {},
   "outputs": [],
   "source": [
    "file_path = '../data/nfl-games2002-2022.csv'\n",
    "\n",
    "data = pd.read_csv(file_path)\n",
    "nfl_df = pd.DataFrame(data)\n",
    "nfl_df = nfl_df.dropna(axis=1)\n",
    "\n",
    "nfl_df['home'] = nfl_df['home'].replace({'Washington Redskins': 'Washington Commanders', 'Washington Football Team': 'Washington Commanders', 'Oakland Raiders': 'Las Vegas Raiders'})\n",
    "nfl_df['away'] = nfl_df['away'].replace({'Washington Redskins': 'Washington Commanders', 'Washington Football Team': 'Washington Commanders', 'Oakland Raiders': 'Las Vegas Raiders'})\n",
    "nfl_df['result_home'] = (nfl_df['score_home'] - nfl_df['score_away']).apply(lambda x: 1 if x > 0 else (0 if x < 0 else 0.5)).astype(str)\n",
    "\n",
    "def rate(col): return 0 if int(col[1]) == 0 else int(col[0]) / int(col[1])\n",
    "def to_sec(col): return int(col[0]) * 60 + int(col[1])\n",
    "\n",
    "nfl_df['third_downs_home_rate'] = nfl_df['third_downs_home'].str.split('-').apply(lambda x: rate(x))\n",
    "nfl_df['third_downs_away_rate'] = nfl_df['third_downs_away'].str.split('-').apply(lambda x: rate(x))\n",
    "nfl_df['fourth_downs_home_rate'] = nfl_df['fourth_downs_home'].str.split('-').apply(lambda x: rate(x))\n",
    "nfl_df['fourth_downs_away_rate'] = nfl_df['fourth_downs_away'].str.split('-').apply(lambda x: rate(x))\n",
    "nfl_df['possession_home'] = nfl_df['possession_home'].str.split(':').apply(lambda x: to_sec(x))\n",
    "nfl_df['possession_away'] = nfl_df['possession_away'].str.split(':').apply(lambda x: to_sec(x))\n",
    "nfl_df = nfl_df.drop('score_home', axis=1)\n",
    "nfl_df = nfl_df.drop('score_away', axis=1)"
   ]
  },
  {
   "cell_type": "code",
   "execution_count": 60,
   "metadata": {},
   "outputs": [],
   "source": [
    "nfl_labels = nfl_df['result_home'].tolist()\n",
    "nfl_features = nfl_df.drop('result_home', axis=1)\n",
    "nfl_features = ['rushing_attempts_away', 'rushing_attempts_home', 'turnovers_away', 'turnovers_home'] \n",
    "# nfl_features = nfl_df._get_numeric_data().columns.values.tolist()\n",
    "nfl_feature_data = nfl_df[nfl_features]\n",
    "X_train, X_test, y_train, y_test = train_test_split(nfl_feature_data, nfl_labels, test_size=0.3)"
   ]
  },
  {
   "cell_type": "code",
   "execution_count": 52,
   "metadata": {},
   "outputs": [
    {
     "name": "stdout",
     "output_type": "stream",
     "text": [
      "first_downs_away\n",
      "first_downs_home\n",
      "passing_yards_away\n",
      "passing_yards_home\n",
      "rushing_yards_away\n",
      "rushing_yards_home\n",
      "total_yards_away\n",
      "total_yards_home\n",
      "rushing_attempts_away\n",
      "rushing_attempts_home\n",
      "fumbles_away\n",
      "fumbles_home\n",
      "int_away\n",
      "int_home\n",
      "turnovers_away\n",
      "turnovers_home\n",
      "drives_away\n",
      "drives_home\n",
      "def_st_td_away\n",
      "def_st_td_home\n",
      "possession_away\n",
      "possession_home\n",
      "third_downs_home_rate\n",
      "third_downs_away_rate\n",
      "fourth_downs_home_rate\n",
      "fourth_downs_away_rate\n"
     ]
    }
   ],
   "source": [
    "for nfl in nfl_features:\n",
    "  print(nfl)"
   ]
  },
  {
   "cell_type": "code",
   "execution_count": 61,
   "metadata": {},
   "outputs": [
    {
     "name": "stdout",
     "output_type": "stream",
     "text": [
      "Random Forest Model Accuracy: 0.780862374483166\n"
     ]
    }
   ],
   "source": [
    "rf_model = RandomForestClassifier(n_estimators=100)\n",
    "\n",
    "rf_model.fit(X_train, y_train)\n",
    "\n",
    "rf_predictions = rf_model.predict(X_test)\n",
    "\n",
    "rf_accuracy = accuracy_score(y_test, rf_predictions)\n",
    "print(f'Random Forest Model Accuracy: {rf_accuracy}')"
   ]
  },
  {
   "cell_type": "code",
   "execution_count": 62,
   "metadata": {},
   "outputs": [
    {
     "name": "stdout",
     "output_type": "stream",
     "text": [
      "Top 10 most important features:\n",
      "                 Feature  Importance\n",
      "0  rushing_attempts_away    0.394491\n",
      "1  rushing_attempts_home    0.340937\n",
      "2         turnovers_away    0.140637\n",
      "3         turnovers_home    0.123935\n"
     ]
    }
   ],
   "source": [
    "feature_importances = rf_model.feature_importances_\n",
    "\n",
    "# Create a DataFrame to display feature importances\n",
    "importances_df = pd.DataFrame({'Feature': nfl_features, 'Importance': feature_importances})\n",
    "importances_df = importances_df.sort_values(by='Importance', ascending=False)\n",
    "\n",
    "# Display the top N most important features\n",
    "top_n = 10  # Change this value based on your preference\n",
    "print(f'Top {top_n} most important features:')\n",
    "print(importances_df.head(top_n))"
   ]
  },
  {
   "cell_type": "code",
   "execution_count": 63,
   "metadata": {},
   "outputs": [],
   "source": [
    "params = {\n",
    "    \"n_estimators\": 500,\n",
    "    \"learning_rate\": 0.01,\n",
    "    \"loss\": \"log_loss\",\n",
    "}"
   ]
  },
  {
   "cell_type": "code",
   "execution_count": 64,
   "metadata": {},
   "outputs": [
    {
     "name": "stdout",
     "output_type": "stream",
     "text": [
      "Gradient Boosting Model Accuracy: 0.8251624335499114\n"
     ]
    }
   ],
   "source": [
    "gb_model = GradientBoostingClassifier(**params)\n",
    "\n",
    "# Train the Gradient Boosting model\n",
    "gb_model.fit(X_train, y_train)\n",
    "\n",
    "# Make predictions on the test set\n",
    "gb_predictions = gb_model.predict(X_test)\n",
    "\n",
    "# Evaluate the Gradient Boosting model accuracy\n",
    "gb_accuracy = accuracy_score(y_test, gb_predictions)\n",
    "print(f'Gradient Boosting Model Accuracy: {gb_accuracy}')"
   ]
  },
  {
   "cell_type": "code",
   "execution_count": 65,
   "metadata": {},
   "outputs": [
    {
     "name": "stdout",
     "output_type": "stream",
     "text": [
      "Top 10 most important features:\n",
      "                 Feature  Importance\n",
      "0  rushing_attempts_away    0.434752\n",
      "1  rushing_attempts_home    0.269411\n",
      "2         turnovers_away    0.162482\n",
      "3         turnovers_home    0.133356\n"
     ]
    }
   ],
   "source": [
    "feature_importances = gb_model.feature_importances_\n",
    "\n",
    "# Create a DataFrame to display feature importances\n",
    "importances_df = pd.DataFrame({'Feature': nfl_features, 'Importance': feature_importances})\n",
    "importances_df = importances_df.sort_values(by='Importance', ascending=False)\n",
    "\n",
    "# Display the top N most important features\n",
    "top_n = 10  # Change this value based on your preference\n",
    "print(f'Top {top_n} most important features:')\n",
    "print(importances_df.head(top_n))"
   ]
  },
  {
   "cell_type": "code",
   "execution_count": 66,
   "metadata": {},
   "outputs": [
    {
     "name": "stdout",
     "output_type": "stream",
     "text": [
      "Bootstrap Accuracy Mean: 0.824663910218547\n",
      "95% Confidence Interval: [0.80626108 0.84171589]\n"
     ]
    }
   ],
   "source": [
    "from sklearn.utils import resample\n",
    "from sklearn.metrics import accuracy_score\n",
    "import numpy as np\n",
    "\n",
    "# Assuming you have already defined rf_model, X_test, and y_test\n",
    "\n",
    "# Set the number of bootstrap iterations\n",
    "n_iterations = 1000\n",
    "\n",
    "# Initialize an array to store the metric values\n",
    "bootstrap_metrics = np.empty(n_iterations)\n",
    "\n",
    "# Perform bootstrapping\n",
    "for i in range(n_iterations):\n",
    "    # Create a bootstrap sample\n",
    "    X_bootstrap, y_bootstrap = resample(X_test, y_test, random_state=i)\n",
    "    \n",
    "    # Make predictions on the bootstrap sample\n",
    "    bootstrap_predictions = gb_model.predict(X_bootstrap)\n",
    "    \n",
    "    # Calculate the metric of interest (e.g., accuracy)\n",
    "    bootstrap_accuracy = accuracy_score(y_bootstrap, bootstrap_predictions)\n",
    "    \n",
    "    # Store the metric value in the array\n",
    "    bootstrap_metrics[i] = bootstrap_accuracy\n",
    "\n",
    "# Calculate the confidence interval\n",
    "confidence_interval = np.percentile(bootstrap_metrics, [2.5, 97.5])\n",
    "\n",
    "# Display the results\n",
    "print(f'Bootstrap Accuracy Mean: {np.mean(bootstrap_metrics)}')\n",
    "print(f'95% Confidence Interval: {confidence_interval}')\n"
   ]
  }
 ],
 "metadata": {
  "kernelspec": {
   "display_name": "Python 3",
   "language": "python",
   "name": "python3"
  },
  "language_info": {
   "codemirror_mode": {
    "name": "ipython",
    "version": 3
   },
   "file_extension": ".py",
   "mimetype": "text/x-python",
   "name": "python",
   "nbconvert_exporter": "python",
   "pygments_lexer": "ipython3",
   "version": "3.11.1"
  }
 },
 "nbformat": 4,
 "nbformat_minor": 2
}
